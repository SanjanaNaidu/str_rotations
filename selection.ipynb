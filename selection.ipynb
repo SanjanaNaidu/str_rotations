{
  "cells": [
    {
      "cell_type": "markdown",
      "metadata": {
        "id": "view-in-github",
        "colab_type": "text"
      },
      "source": [
        "<a href=\"https://colab.research.google.com/github/SanjanaNaidu/str_rotations/blob/master/selection.ipynb\" target=\"_parent\"><img src=\"https://colab.research.google.com/assets/colab-badge.svg\" alt=\"Open In Colab\"/></a>"
      ]
    },
    {
      "cell_type": "code",
      "execution_count": null,
      "metadata": {
        "id": "8vKF1XKRp3N9"
      },
      "outputs": [],
      "source": [
        "import time\n",
        "import random\n",
        "import matplotlib.pyplot as plt"
      ]
    },
    {
      "cell_type": "markdown",
      "source": [],
      "metadata": {
        "id": "DbtWSSrVxE9-"
      }
    },
    {
      "cell_type": "code",
      "execution_count": null,
      "metadata": {
        "colab": {
          "base_uri": "https://localhost:8080/"
        },
        "id": "3E8gR3DEp-Rh",
        "outputId": "fcf861df-0645-4954-cd1a-b5813b9b5c7a"
      },
      "outputs": [
        {
          "output_type": "stream",
          "name": "stdout",
          "text": [
            "<function selectionsort1 at 0x7f6e0bfe98c0>\n"
          ]
        }
      ],
      "source": [
        "def selectionsort1(arr):  \n",
        "    for i in range(len(arr)-1):  \n",
        "        minimum = i  \n",
        "        for j in range(i+1, len(arr)):  \n",
        "            if arr[j]<arr[minimum]:  \n",
        "                minimum = j  \n",
        "                  \n",
        "        (arr[i],arr[minimum])=(arr[minimum],arr[i])  \n",
        "    return arr\n",
        "a=[2,1,9,5,3]\n",
        "print(selectionsort1)"
      ]
    },
    {
      "cell_type": "markdown",
      "source": [
        "Empirical analysis for best case"
      ],
      "metadata": {
        "id": "HljlBkzgxroB"
      }
    },
    {
      "cell_type": "code",
      "execution_count": null,
      "metadata": {
        "colab": {
          "background_save": true,
          "base_uri": "https://localhost:8080/"
        },
        "id": "FBI5Bd4SuF_I",
        "outputId": "bc1691ad-7b3b-4e2b-b826-3f49282844e2"
      },
      "outputs": [
        {
          "name": "stdout",
          "output_type": "stream",
          "text": [
            "Sorting algorithms for input size k= 1000\n",
            "For input size  1000 average time for selection sort algorithm to sort a sorted list 0.12789151668548585\n",
            "--------------------------------------------------\n",
            "Sorting algorithms for input size k= 2000\n",
            "For input size  2000 average time for selection sort algorithm to sort a sorted list 0.5299154758453369\n",
            "--------------------------------------------------\n",
            "Sorting algorithms for input size k= 3000\n",
            "For input size  3000 average time for selection sort algorithm to sort a sorted list 1.3679662942886353\n",
            "--------------------------------------------------\n",
            "Sorting algorithms for input size k= 4000\n",
            "For input size  4000 average time for selection sort algorithm to sort a sorted list 3.9732873678207397\n",
            "--------------------------------------------------\n",
            "Sorting algorithms for input size k= 5000\n",
            "For input size  5000 average time for selection sort algorithm to sort a sorted list 9.43977952003479\n",
            "--------------------------------------------------\n",
            "Sorting algorithms for input size k= 6000\n",
            "For input size  6000 average time for selection sort algorithm to sort a sorted list 19.40620927810669\n",
            "--------------------------------------------------\n",
            "Sorting algorithms for input size k= 7000\n",
            "For input size  7000 average time for selection sort algorithm to sort a sorted list 34.154731917381284\n",
            "--------------------------------------------------\n",
            "Sorting algorithms for input size k= 8000\n",
            "For input size  8000 average time for selection sort algorithm to sort a sorted list 57.73422658443451\n",
            "--------------------------------------------------\n",
            "Sorting algorithms for input size k= 9000\n",
            "For input size  9000 average time for selection sort algorithm to sort a sorted list 89.35206155776977\n",
            "--------------------------------------------------\n",
            "Sorting algorithms for input size k= 10000\n",
            "For input size  10000 average time for selection sort algorithm to sort a sorted list 137.3314471244812\n",
            "--------------------------------------------------\n"
          ]
        },
        {
          "data": {
            "image/png": "[encoded data removed]",
            "text/plain": [
              "<Figure size 432x288 with 1 Axes>"
            ]
          },
          "metadata": {},
          "output_type": "display_data"
        }
      ],
      "source": [
        "import random\n",
        "import time\n",
        "import matplotlib.pyplot as plt\n",
        "l1=[]\n",
        "k=1000\n",
        "P1=[]\n",
        "\n",
        "finallist=[]\n",
        "while k<=10000:\n",
        "    print(\"Sorting algorithms for input size k=\",k)\n",
        "    for i in range(0,k):\n",
        "        l1.append(random.randint(0,1000))\n",
        "    sorted(l1)\n",
        "    begin=time.time()\n",
        "    for i in range(0,10):\n",
        "        n=l1\n",
        "        selectionsort1(n)\n",
        "    end=time.time()\n",
        "    print('For input size ',k,'average time for selection sort algorithm to sort a sorted list',(end-begin)/10)\n",
        "    P1.append((end-begin)/10)\n",
        "    finallist.append(k)\n",
        "    begin=time.time()\n",
        "    \n",
        "    k+=1000\n",
        "    print('-'*50)\n",
        "plt.plot(finallist,P1,label='Insertion Sort')\n",
        "plt.xlabel('Input List')\n",
        "plt.ylabel('Sorting Time')\n",
        "plt.title('Sorting Algorithms vs Time for sorted list')\n",
        "plt.legend()\n",
        "plt.show()\n",
        "\n"
      ]
    },
    {
      "cell_type": "markdown",
      "source": [
        "Empirical analysis for worst case"
      ],
      "metadata": {
        "id": "7jBAjJi-xjfJ"
      }
    },
    {
      "cell_type": "code",
      "execution_count": null,
      "metadata": {
        "colab": {
          "base_uri": "https://localhost:8080/",
          "height": 816
        },
        "id": "_WVQDo5_uwbR",
        "outputId": "348720da-6a51-4ad2-8df6-3f4b5efb01ab"
      },
      "outputs": [
        {
          "output_type": "stream",
          "name": "stdout",
          "text": [
            "Sorting algorithms for input size k= 1000\n",
            "For input size  1000 average time for selection sort algorithm to sort a sorted list 0.06514568328857422\n",
            "--------------------------------------------------\n",
            "Sorting algorithms for input size k= 2000\n",
            "For input size  2000 average time for selection sort algorithm to sort a sorted list 0.6773820877075195\n",
            "--------------------------------------------------\n",
            "Sorting algorithms for input size k= 3000\n",
            "For input size  3000 average time for selection sort algorithm to sort a sorted list 1.7826420307159423\n",
            "--------------------------------------------------\n",
            "Sorting algorithms for input size k= 4000\n",
            "For input size  4000 average time for selection sort algorithm to sort a sorted list 4.9858451128005985\n",
            "--------------------------------------------------\n",
            "Sorting algorithms for input size k= 5000\n",
            "For input size  5000 average time for selection sort algorithm to sort a sorted list 9.839433670043945\n",
            "--------------------------------------------------\n",
            "Sorting algorithms for input size k= 6000\n",
            "For input size  6000 average time for selection sort algorithm to sort a sorted list 19.352581000328065\n",
            "--------------------------------------------------\n",
            "Sorting algorithms for input size k= 7000\n",
            "For input size  7000 average time for selection sort algorithm to sort a sorted list 34.21085877418518\n",
            "--------------------------------------------------\n",
            "Sorting algorithms for input size k= 8000\n",
            "For input size  8000 average time for selection sort algorithm to sort a sorted list 56.76021916866303\n",
            "--------------------------------------------------\n",
            "Sorting algorithms for input size k= 9000\n",
            "For input size  9000 average time for selection sort algorithm to sort a sorted list 89.56272015571594\n",
            "--------------------------------------------------\n",
            "Sorting algorithms for input size k= 10000\n",
            "For input size  10000 average time for selection sort algorithm to sort a sorted list 135.46718635559083\n",
            "--------------------------------------------------\n"
          ]
        },
        {
          "output_type": "display_data",
          "data": {
            "text/plain": [
              "<Figure size 432x288 with 1 Axes>"
            ],
            "image/png": "[encoded data removed]"
          },
          "metadata": {
            "needs_background": "light"
          }
        }
      ],
      "source": [
        "import random\n",
        "import time\n",
        "import matplotlib.pyplot as plt\n",
        "l1=[]\n",
        "k=1000\n",
        "P2=[]\n",
        "finallist=[]\n",
        "while k<=10000:\n",
        "    print(\"Sorting algorithms for input size k=\",k)\n",
        "    for i in range(0,k):\n",
        "        l1.append(random.randint(0,1000))\n",
        "    #sorted(l1 reverse=True)\n",
        "    l1.sort(reverse=True)\n",
        "    begin=time.time()\n",
        "    for i in range(0,10):\n",
        "        new=l1\n",
        "        selectionsort1(new)\n",
        "    end=time.time()\n",
        "    print('For input size ',k,'average time for selection sort algorithm to sort a sorted list',(end-begin)/10)\n",
        "    P2.append((end-begin)/10)\n",
        "    finallist.append(k)\n",
        "    begin=time.time()\n",
        "    \n",
        "    k+=1000\n",
        "    print('-'*50)\n",
        "plt.plot(inputlist,ss2,label='Selection Sort')\n",
        "#plt.plot(inputlist,is1,label='Insertion Sort')\n",
        "#plt.plot(inputlist,ms1,label='Merge Sort')\n",
        "plt.xlabel('Input List')\n",
        "plt.ylabel('Sorting Time')\n",
        "plt.title('Sorting Algorithms vs Time for sorted list')\n",
        "plt.legend()\n",
        "plt.show()"
      ]
    },
    {
      "cell_type": "code",
      "execution_count": null,
      "metadata": {
        "id": "bZUqRc9Cuseo",
        "colab": {
          "base_uri": "https://localhost:8080/",
          "height": 816
        },
        "outputId": "7e8f9b9b-e051-4221-be69-3ff228bd2b1d"
      },
      "outputs": [
        {
          "output_type": "stream",
          "name": "stdout",
          "text": [
            "Sorting algorithms for input size k= 1000\n",
            "For input size  1000 average time for selection sort algorithm to sort a sorted list 0.045315909385681155\n",
            "--------------------------------------------------\n",
            "Sorting algorithms for input size k= 2000\n",
            "For input size  2000 average time for selection sort algorithm to sort a sorted list 0.4025371551513672\n",
            "--------------------------------------------------\n",
            "Sorting algorithms for input size k= 3000\n",
            "For input size  3000 average time for selection sort algorithm to sort a sorted list 1.632732367515564\n",
            "--------------------------------------------------\n",
            "Sorting algorithms for input size k= 4000\n",
            "For input size  4000 average time for selection sort algorithm to sort a sorted list 4.4031627655029295\n",
            "--------------------------------------------------\n",
            "Sorting algorithms for input size k= 5000\n",
            "For input size  5000 average time for selection sort algorithm to sort a sorted list 9.736482334136962\n",
            "--------------------------------------------------\n",
            "Sorting algorithms for input size k= 6000\n",
            "For input size  6000 average time for selection sort algorithm to sort a sorted list 18.901815509796144\n",
            "--------------------------------------------------\n",
            "Sorting algorithms for input size k= 7000\n",
            "For input size  7000 average time for selection sort algorithm to sort a sorted list 33.84596154689789\n",
            "--------------------------------------------------\n",
            "Sorting algorithms for input size k= 8000\n",
            "For input size  8000 average time for selection sort algorithm to sort a sorted list 56.05064766407013\n",
            "--------------------------------------------------\n",
            "Sorting algorithms for input size k= 9000\n",
            "For input size  9000 average time for selection sort algorithm to sort a sorted list 88.72442936897278\n",
            "--------------------------------------------------\n",
            "Sorting algorithms for input size k= 10000\n",
            "For input size  10000 average time for selection sort algorithm to sort a sorted list 129.17929043769837\n",
            "--------------------------------------------------\n"
          ]
        },
        {
          "output_type": "display_data",
          "data": {
            "text/plain": [
              "<Figure size 432x288 with 1 Axes>"
            ],
            "image/png": "[encoded data removed]"
          },
          "metadata": {
            "needs_background": "light"
          }
        }
      ],
      "source": [
        "import random\n",
        "import time\n",
        "import matplotlib.pyplot as plt\n",
        "l1=[]\n",
        "k=1000\n",
        "P3=[]\n",
        "\n",
        "finallist=[]\n",
        "while k<=10000:\n",
        "    print(\"Sorting algorithms for input size k=\",k)\n",
        "    for i in range(0,k):\n",
        "        l1.append(random.randint(0,1000))\n",
        "    #sorted(l1 reverse=True)\n",
        "    #l1.sorted\n",
        "    begin=time.time()\n",
        "    for i in range(0,10):\n",
        "        new=l1\n",
        "        selectionsort1(new)\n",
        "    end=time.time()\n",
        "    print('For input size ',k,'average time for selection sort algorithm to sort a sorted list',(end-begin)/10)\n",
        "    P3.append((end-begin)/10)\n",
        "    finallist.append(k)\n",
        "    begin=time.time()\n",
        "    \n",
        "    k+=1000\n",
        "    print('-'*50)\n",
        "plt.plot(inputlist,ss3,label='Selection Sort')\n",
        "\n",
        "plt.xlabel('Input List')\n",
        "plt.ylabel('Sorting Time')\n",
        "plt.title('Sorting Algorithms vs Time for sorted list')\n",
        "plt.legend()\n",
        "plt.show()"
      ]
    },
    {
      "cell_type": "markdown",
      "source": [
        "Empirical analysis for average case"
      ],
      "metadata": {
        "id": "K0Aam6V0xcem"
      }
    },
    {
      "cell_type": "code",
      "execution_count": null,
      "metadata": {
        "id": "3MxXUassxlfq"
      },
      "outputs": [],
      "source": [
        "import random\n",
        "import time\n",
        "import matplotlib.pyplot as plt\n",
        "l1=[]\n",
        "k=1000\n",
        "ss4=[]\n",
        "\n",
        "inputlist=[]\n",
        "while k<=10000:\n",
        "    print(\"Sorting algorithms for input size k=\",k)\n",
        "    for i in range(0,k):\n",
        "        l1.append(random.randint(0,1000))\n",
        "    #sorted(l1 reverse=True)\n",
        "    #l1.sorted\n",
        "    begin=time.time()\n",
        "    for i in range(0,10):\n",
        "        new=l1\n",
        "        selectionsort1(new)\n",
        "    end=time.time()\n",
        "    print('For input size ',k,'average time for selection sort algorithm to sort a sorted list',(end-begin)/10)\n",
        "    ss1.append((end-begin)/10)\n",
        "    begin=time.time()\n",
        "    \n",
        "    k+=1000\n",
        "    print('-'*50)\n",
        "plt.plot(inputlist,ss4,label='Selection Sort')\n",
        "#plt.plot(inputlist,is1,label='Insertion Sort')\n",
        "#plt.plot(inputlist,ms1,label='Merge Sort')\n",
        "plt.xlabel('Input List')\n",
        "plt.ylabel('Sorting Time')\n",
        "plt.title('Sorting Algorithms vs Time for sorted list')\n",
        "plt.legend()\n",
        "plt.show()"
      ]
    },
    {
      "cell_type": "markdown",
      "source": [
        "We can observe that the graphs for avg, worst and best cases are taking (o(n^2)) time complexity and almost have a simliar increasing pattern."
      ],
      "metadata": {
        "id": "yq5RrSUzxG9g"
      }
    }
  ],
  "metadata": {
    "colab": {
      "provenance": [],
      "collapsed_sections": [],
      "authorship_tag": "ABX9TyMmt9HpJUUKoWDTIQdECS+5",
      "include_colab_link": true
    },
    "kernelspec": {
      "display_name": "Python 3",
      "name": "python3"
    },
    "language_info": {
      "name": "python"
    }
  },
  "nbformat": 4,
  "nbformat_minor": 0
}