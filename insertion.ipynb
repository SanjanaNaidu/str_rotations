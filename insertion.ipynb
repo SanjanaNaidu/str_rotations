{
  "nbformat": 4,
  "nbformat_minor": 0,
  "metadata": {
    "colab": {
      "provenance": [],
      "collapsed_sections": [],
      "authorship_tag": "ABX9TyM9Tx915R93e37oP3nklDqo",
      "include_colab_link": true
    },
    "kernelspec": {
      "name": "python3",
      "display_name": "Python 3"
    },
    "language_info": {
      "name": "python"
    }
  },
  "cells": [
    {
      "cell_type": "markdown",
      "metadata": {
        "id": "view-in-github",
        "colab_type": "text"
      },
      "source": [
        "<a href=\"https://colab.research.google.com/github/SanjanaNaidu/str_rotations/blob/master/insertion.ipynb\" target=\"_parent\"><img src=\"https://colab.research.google.com/assets/colab-badge.svg\" alt=\"Open In Colab\"/></a>"
      ]
    },
    {
      "cell_type": "code",
      "execution_count": null,
      "metadata": {
        "id": "gUlWGYarx7PV"
      },
      "outputs": [],
      "source": [
        "import time\n",
        "import random\n",
        "import matplotlib.pyplot as plt"
      ]
    },
    {
      "cell_type": "code",
      "source": [
        "def insertion_sort(l):  \n",
        "    for i in range(1, len(l)):  \n",
        "        value = l[i]  \n",
        "        j = i - 1  \n",
        "        while j >= 0 and value < l[j]:  \n",
        "                l[j + 1] = l[j]  \n",
        "                j -= 1  \n",
        "                l[j + 1] = value\n",
        "    return l\n"
      ],
      "metadata": {
        "id": "m_ZIdbv8yGUf"
      },
      "execution_count": null,
      "outputs": []
    },
    {
      "cell_type": "code",
      "source": [
        "l=[3,4,1]\n",
        "s=insertion_sort(l)\n",
        "print(s)"
      ],
      "metadata": {
        "colab": {
          "base_uri": "https://localhost:8080/"
        },
        "id": "n65Gvi4by40d",
        "outputId": "f1048619-03f6-4e0e-9656-363fc2a1182c"
      },
      "execution_count": null,
      "outputs": [
        {
          "output_type": "stream",
          "name": "stdout",
          "text": [
            "[1, 3, 4]\n"
          ]
        }
      ]
    },
    {
      "cell_type": "markdown",
      "source": [
        "Empirical analysis for best case"
      ],
      "metadata": {
        "id": "qOAVy4FFyQ5S"
      }
    },
    {
      "cell_type": "code",
      "source": [
        "import random\n",
        "import time\n",
        "import matplotlib.pyplot as plt\n",
        "l1=[]\n",
        "k=1000\n",
        "#ss1=[]\n",
        "is1=[]\n",
        "#ms1=[]\n",
        "inputlist=[]\n",
        "while k<=10000:\n",
        "    print(\"Sorting algorithms for input size k=\",k)\n",
        "    for i in range(0,k):\n",
        "        l1.append(random.randint(0,1000))\n",
        "    sorted(l1)\n",
        "    begin=time.time()\n",
        "    for i in range(0,10):\n",
        "        new=l1\n",
        "        insertion_sort(new)\n",
        "    end=time.time()\n",
        "    print('For input size ',k,'average time for insertion sort algorithm to sort a sorted list',(end-begin)/10)\n",
        "    is1.append((end-begin)/10)\n",
        "    inputlist.append((end-begin)/10)\n",
        "\n",
        "\n",
        "    begin=time.time()\n",
        "    \n",
        "    k+=1000\n",
        "    print('-'*50)\n",
        "#plt.plot(inputlist,ss1,label='Selection Sort')\n",
        "plt.plot(inputlist,is1,label='Insertion Sort')\n",
        "#plt.plot(inputlist,ms1,label='Merge Sort')\n",
        "plt.xlabel('Input List')\n",
        "plt.ylabel('Sorting Time')\n",
        "plt.title('Sorting Algorithms vs Time for sorted list')\n",
        "plt.legend()\n",
        "plt.show()\n"
      ],
      "metadata": {
        "colab": {
          "base_uri": "https://localhost:8080/",
          "height": 816
        },
        "id": "RHPdwmCBzfO4",
        "outputId": "85e53e73-f8fc-461b-b81a-f9a187546140"
      },
      "execution_count": null,
      "outputs": [
        {
          "output_type": "stream",
          "name": "stdout",
          "text": [
            "Sorting algorithms for input size k= 1000\n",
            "For input size  1000 average time for insertion sort algorithm to sort a sorted list 0.014661622047424317\n",
            "--------------------------------------------------\n",
            "Sorting algorithms for input size k= 2000\n",
            "For input size  2000 average time for insertion sort algorithm to sort a sorted list 0.05477948188781738\n",
            "--------------------------------------------------\n",
            "Sorting algorithms for input size k= 3000\n",
            "For input size  3000 average time for insertion sort algorithm to sort a sorted list 0.18596770763397216\n",
            "--------------------------------------------------\n",
            "Sorting algorithms for input size k= 4000\n",
            "For input size  4000 average time for insertion sort algorithm to sort a sorted list 0.4435438871383667\n",
            "--------------------------------------------------\n",
            "Sorting algorithms for input size k= 5000\n",
            "For input size  5000 average time for insertion sort algorithm to sort a sorted list 0.8832109451293946\n",
            "--------------------------------------------------\n",
            "Sorting algorithms for input size k= 6000\n",
            "For input size  6000 average time for insertion sort algorithm to sort a sorted list 1.8678011417388916\n",
            "--------------------------------------------------\n",
            "Sorting algorithms for input size k= 7000\n",
            "For input size  7000 average time for insertion sort algorithm to sort a sorted list 2.60012001991272\n",
            "--------------------------------------------------\n",
            "Sorting algorithms for input size k= 8000\n",
            "For input size  8000 average time for insertion sort algorithm to sort a sorted list 3.9295568466186523\n",
            "--------------------------------------------------\n",
            "Sorting algorithms for input size k= 9000\n",
            "For input size  9000 average time for insertion sort algorithm to sort a sorted list 6.253807187080383\n",
            "--------------------------------------------------\n",
            "Sorting algorithms for input size k= 10000\n",
            "For input size  10000 average time for insertion sort algorithm to sort a sorted list 13.020524597167968\n",
            "--------------------------------------------------\n"
          ]
        },
        {
          "output_type": "display_data",
          "data": {
            "text/plain": [
              "<Figure size 432x288 with 1 Axes>"
            ],
            "image/png": "[encoded data removed]"
          },
          "metadata": {
            "needs_background": "light"
          }
        }
      ]
    },
    {
      "cell_type": "markdown",
      "source": [
        "Empirical analysis of insertion sort for worst case"
      ],
      "metadata": {
        "id": "VrVRy6bEyWIv"
      }
    },
    {
      "cell_type": "code",
      "source": [
        "import random\n",
        "import time\n",
        "import matplotlib.pyplot as plt\n",
        "l1=[]\n",
        "k=1000\n",
        "#ss1=[]\n",
        "is2=[]\n",
        "#ms1=[]\n",
        "inputlist=[]\n",
        "while k<=10000:\n",
        "    print(\"Sorting algorithms for input size k=\",k)\n",
        "    for i in range(0,k):\n",
        "        l1.append(random.randint(0,1000))\n",
        "    l1.sort(reverse=True)\n",
        "    begin=time.time()\n",
        "    for i in range(0,10):\n",
        "        new=l1\n",
        "        insertion_sort(new)\n",
        "    end=time.time()\n",
        "    print('For input size ',k,'average time for insertion sort algorithm to sort a sorted list',(end-begin)/10)\n",
        "    is2.append((end-begin)/10)\n",
        "    inputlist.append((end-begin)/10)\n",
        "\n",
        "    begin=time.time()\n",
        "    \n",
        "    k+=1000\n",
        "    print('-'*50)\n",
        "plt.plot(inputlist,is2,label='Insertion Sort')\n",
        "plt.xlabel('Input List')\n",
        "plt.ylabel('Sorting Time')\n",
        "plt.title('Sorting Algorithms vs Time for sorted list')\n",
        "plt.legend()\n",
        "plt.show()\n"
      ],
      "metadata": {
        "id": "wrzCPBXz0Btc",
        "colab": {
          "base_uri": "https://localhost:8080/"
        },
        "outputId": "769dd360-47d4-4f78-a86b-7302165904a3"
      },
      "execution_count": null,
      "outputs": [
        {
          "output_type": "stream",
          "name": "stdout",
          "text": [
            "Sorting algorithms for input size k= 1000\n",
            "For input size  1000 average time for insertion sort algorithm to sort a sorted list 0.06936473846435547\n",
            "--------------------------------------------------\n",
            "Sorting algorithms for input size k= 2000\n",
            "For input size  2000 average time for insertion sort algorithm to sort a sorted list 0.41778836250305174\n",
            "--------------------------------------------------\n",
            "Sorting algorithms for input size k= 3000\n",
            "For input size  3000 average time for insertion sort algorithm to sort a sorted list 0.7516299724578858\n",
            "--------------------------------------------------\n",
            "Sorting algorithms for input size k= 4000\n",
            "For input size  4000 average time for insertion sort algorithm to sort a sorted list 1.421620774269104\n",
            "--------------------------------------------------\n",
            "Sorting algorithms for input size k= 5000\n",
            "For input size  5000 average time for insertion sort algorithm to sort a sorted list 3.0388344526290894\n",
            "--------------------------------------------------\n",
            "Sorting algorithms for input size k= 6000\n",
            "For input size  6000 average time for insertion sort algorithm to sort a sorted list 6.101264142990113\n",
            "--------------------------------------------------\n",
            "Sorting algorithms for input size k= 7000\n",
            "For input size  7000 average time for insertion sort algorithm to sort a sorted list 10.88475296497345\n",
            "--------------------------------------------------\n",
            "Sorting algorithms for input size k= 8000\n",
            "For input size  8000 average time for insertion sort algorithm to sort a sorted list 17.9522225856781\n",
            "--------------------------------------------------\n",
            "Sorting algorithms for input size k= 9000\n",
            "For input size  9000 average time for insertion sort algorithm to sort a sorted list 28.32081232070923\n",
            "--------------------------------------------------\n",
            "Sorting algorithms for input size k= 10000\n",
            "For input size  10000 average time for insertion sort algorithm to sort a sorted list 43.049277544021606\n",
            "--------------------------------------------------\n"
          ]
        },
        {
          "output_type": "display_data",
          "data": {
            "text/plain": [
              "<Figure size 432x288 with 1 Axes>"
            ],
            "image/png": "[encoded data removed]"
          },
          "metadata": {
            "needs_background": "light"
          }
        }
      ]
    },
    {
      "cell_type": "markdown",
      "source": [
        "Empirical analysis of insertion sort for Average case"
      ],
      "metadata": {
        "id": "bgHlMLJIycYE"
      }
    },
    {
      "cell_type": "code",
      "source": [
        "import random\n",
        "import time\n",
        "import matplotlib.pyplot as plt\n",
        "l1=[]\n",
        "k=1000\n",
        "#ss1=[]\n",
        "is3=[]\n",
        "#ms1=[]\n",
        "inputlist=[]\n",
        "while k<=10000:\n",
        "    print(\"Sorting algorithms for input size k=\",k)\n",
        "    for i in range(0,k):\n",
        "        l1.append(random.randint(0,1000))\n",
        "    \n",
        "    begin=time.time()\n",
        "    for i in range(0,10):\n",
        "        new=l1\n",
        "        insertion_sort(new)\n",
        "    end=time.time()\n",
        "    print('For input size ',k,'average time for insertion sort algorithm to sort a sorted list',(end-begin)/10)\n",
        "    is3.append((end-begin)/10)\n",
        "    inputlist.append((end-begin)/10)\n",
        "    begin=time.time()\n",
        "    \n",
        "    k+=1000\n",
        "    print('-'*50)\n",
        "plt.plot(inputlist,is3,label='Insertion Sort')\n",
        "plt.xlabel('Input List')\n",
        "plt.ylabel('Sorting Time')\n",
        "plt.title('Sorting Algorithms vs Time for sorted list')\n",
        "plt.legend()\n",
        "plt.show()\n",
        "\n"
      ],
      "metadata": {
        "id": "mSGhAND50YWx",
        "colab": {
          "base_uri": "https://localhost:8080/"
        },
        "outputId": "22f38154-d968-47e7-ae00-03f235060ff3"
      },
      "execution_count": null,
      "outputs": [
        {
          "output_type": "stream",
          "name": "stdout",
          "text": [
            "Sorting algorithms for input size k= 1000\n",
            "For input size  1000 average time for insertion sort algorithm to sort a sorted list 0.007380890846252442\n",
            "--------------------------------------------------\n",
            "Sorting algorithms for input size k= 2000\n",
            "For input size  2000 average time for insertion sort algorithm to sort a sorted list 0.055204224586486814\n",
            "--------------------------------------------------\n",
            "Sorting algorithms for input size k= 3000\n",
            "For input size  3000 average time for insertion sort algorithm to sort a sorted list 0.18085532188415526\n",
            "--------------------------------------------------\n",
            "Sorting algorithms for input size k= 4000\n",
            "For input size  4000 average time for insertion sort algorithm to sort a sorted list 0.42540640830993653\n",
            "--------------------------------------------------\n",
            "Sorting algorithms for input size k= 5000\n",
            "For input size  5000 average time for insertion sort algorithm to sort a sorted list 0.830080223083496\n",
            "--------------------------------------------------\n",
            "Sorting algorithms for input size k= 6000\n",
            "For input size  6000 average time for insertion sort algorithm to sort a sorted list 1.5915542364120483\n",
            "--------------------------------------------------\n",
            "Sorting algorithms for input size k= 7000\n",
            "For input size  7000 average time for insertion sort algorithm to sort a sorted list 2.3309853315353393\n",
            "--------------------------------------------------\n",
            "Sorting algorithms for input size k= 8000\n",
            "For input size  8000 average time for insertion sort algorithm to sort a sorted list 3.5886302947998048\n",
            "--------------------------------------------------\n",
            "Sorting algorithms for input size k= 9000\n",
            "For input size  9000 average time for insertion sort algorithm to sort a sorted list 5.14084746837616\n",
            "--------------------------------------------------\n",
            "Sorting algorithms for input size k= 10000\n",
            "For input size  10000 average time for insertion sort algorithm to sort a sorted list 7.173201274871826\n",
            "--------------------------------------------------\n"
          ]
        },
        {
          "output_type": "display_data",
          "data": {
            "text/plain": [
              "<Figure size 432x288 with 1 Axes>"
            ],
            "image/png": "[encoded data removed]"
          },
          "metadata": {
            "needs_background": "light"
          }
        }
      ]
    },
    {
      "cell_type": "markdown",
      "source": [
        "We can observe that for insertion sort the best case is taking less time compared to worst and average cases because the former is having o(n) time complexity and the latter has o(n^2) time complexity."
      ],
      "metadata": {
        "id": "qX1vV9y_yiym"
      }
    }
  ]
}