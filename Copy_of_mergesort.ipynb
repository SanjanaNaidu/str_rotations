{
  "nbformat": 4,
  "nbformat_minor": 0,
  "metadata": {
    "colab": {
      "provenance": [],
      "authorship_tag": "ABX9TyM94GDAva6X9ukvgtyXKr5d",
      "include_colab_link": true
    },
    "kernelspec": {
      "name": "python3",
      "display_name": "Python 3"
    },
    "language_info": {
      "name": "python"
    }
  },
  "cells": [
    {
      "cell_type": "markdown",
      "metadata": {
        "id": "view-in-github",
        "colab_type": "text"
      },
      "source": [
        "<a href=\"https://colab.research.google.com/github/SanjanaNaidu/str_rotations/blob/master/Copy_of_mergesort.ipynb\" target=\"_parent\"><img src=\"https://colab.research.google.com/assets/colab-badge.svg\" alt=\"Open In Colab\"/></a>"
      ]
    },
    {
      "cell_type": "code",
      "execution_count": null,
      "metadata": {
        "id": "82VtNlTB0y50"
      },
      "outputs": [],
      "source": [
        "import time\n",
        "import random\n",
        "import matplotlib.pyplot as plt"
      ]
    },
    {
      "cell_type": "code",
      "source": [
        "\n",
        "def mergeSort(arr):\n",
        "\tif len(arr) > 1:\n",
        "\n",
        "\t\t\n",
        "\t\tmid = len(arr)//2\n",
        "\n",
        "\t\t# Dividing the array elements\n",
        "\t\tL = arr[:mid]\n",
        "\n",
        "\t\t# into 2 halves\n",
        "\t\tR = arr[mid:]\n",
        "\n",
        "\t\t# Sorting the first half\n",
        "\t\tmergeSort(L)\n",
        "\n",
        "\t\t# Sorting the second half\n",
        "\t\tmergeSort(R)\n",
        "\n",
        "\t\ti = j = k = 0\n",
        "\n",
        "\t\t# Copy data to temp arrays L[] and R[]\n",
        "\t\twhile i < len(L) and j < len(R):\n",
        "\t\t\tif L[i] < R[j]:\n",
        "\t\t\t\tarr[k] = L[i]\n",
        "\t\t\t\ti += 1\n",
        "\t\t\telse:\n",
        "\t\t\t\tarr[k] = R[j]\n",
        "\t\t\t\tj += 1\n",
        "\t\t\tk += 1\n",
        "\n",
        "\t\t# Checking if any element was left\n",
        "\t\twhile i < len(L):\n",
        "\t\t\tarr[k] = L[i]\n",
        "\t\t\ti += 1\n",
        "\t\t\tk += 1\n",
        "\n",
        "\t\twhile j < len(R):\n",
        "\t\t\tarr[k] = R[j]\n",
        "\t\t\tj += 1\n",
        "\t\t\tk += 1\n",
        "\n",
        "# Code to print the list\n",
        "\n",
        "\n",
        "def printList(arr):\n",
        "\tfor i in range(len(arr)):\n",
        "\t\tprint(arr[i], end=\" \")\n",
        "\tprint()\n",
        "arr=[4,8,1,3,9,45]\n",
        "mergeSort(arr)\n",
        "print(\"Sorted array is: \", end=\"\\n\")\n",
        "printList(arr)\n"
      ],
      "metadata": {
        "colab": {
          "base_uri": "https://localhost:8080/"
        },
        "id": "2XFkyzkm1B6t",
        "outputId": "ff23557e-425e-421b-8311-afa018c3f83f"
      },
      "execution_count": null,
      "outputs": [
        {
          "output_type": "stream",
          "name": "stdout",
          "text": [
            "Sorted array is: \n",
            "1 3 4 8 9 45 \n"
          ]
        }
      ]
    },
    {
      "cell_type": "code",
      "source": [],
      "metadata": {
        "colab": {
          "base_uri": "https://localhost:8080/"
        },
        "id": "OXSdsSxS1EFD",
        "outputId": "7fc0b75e-cb9b-49c3-ed7f-4c07fb6133b1"
      },
      "execution_count": null,
      "outputs": [
        {
          "output_type": "stream",
          "name": "stdout",
          "text": [
            "None\n"
          ]
        }
      ]
    },
    {
      "cell_type": "code",
      "source": [
        "import random\n",
        "import time\n",
        "import matplotlib.pyplot as plt\n",
        "l1=[]\n",
        "k=1000\n",
        "\n",
        "\n",
        "ms1=[]\n",
        "inputlist=[]\n",
        "while k<=10000:\n",
        "    print(\"Sorting algorithms for input size k=\",k)\n",
        "    for i in range(0,k):\n",
        "        l1.append(random.randint(0,1000))\n",
        "    sorted(l1)\n",
        "    begin=time.time()\n",
        "    for i in range(0,10):\n",
        "        new=l1\n",
        "        mergeSort(new)\n",
        "    end=time.time()\n",
        "    print('For input size ',k,'average time for selection sort algorithm to sort a sorted list',(end-begin)/10)\n",
        "    ms1.append((end-begin)/10)\n",
        "    begin=time.time()\n",
        "    \n",
        "    k+=1000\n",
        "    print('-'*50)\n",
        "#plt.plot(inputlist,ms1,label='Selection Sort')\n",
        "#plt.plot(inputlist,is1,label='Insertion Sort')\n",
        "#plt.plot(inputlist,ms1,label='Merge Sort')\n",
        "#plt.xlabel('Input List')\n",
        "#plt.ylabel('Sorting Time')\n",
        "#plt.title('Sorting Algorithms vs Time for sorted list')\n",
        "#plt.legend()\n",
        "#plt.show()"
      ],
      "metadata": {
        "colab": {
          "base_uri": "https://localhost:8080/"
        },
        "id": "YUFnOGEu4pPd",
        "outputId": "928ea63e-f7b8-40d1-e1a0-cff581d11781"
      },
      "execution_count": null,
      "outputs": [
        {
          "output_type": "stream",
          "name": "stdout",
          "text": [
            "Sorting algorithms for input size k= 1000\n",
            "For input size  1000 average time for selection sort algorithm to sort a sorted list 0.005443668365478516\n",
            "--------------------------------------------------\n",
            "Sorting algorithms for input size k= 2000\n",
            "For input size  2000 average time for selection sort algorithm to sort a sorted list 0.01397998332977295\n",
            "--------------------------------------------------\n",
            "Sorting algorithms for input size k= 3000\n",
            "For input size  3000 average time for selection sort algorithm to sort a sorted list 0.03162117004394531\n",
            "--------------------------------------------------\n",
            "Sorting algorithms for input size k= 4000\n",
            "For input size  4000 average time for selection sort algorithm to sort a sorted list 0.05562894344329834\n",
            "--------------------------------------------------\n",
            "Sorting algorithms for input size k= 5000\n",
            "For input size  5000 average time for selection sort algorithm to sort a sorted list 0.08548450469970703\n",
            "--------------------------------------------------\n",
            "Sorting algorithms for input size k= 6000\n",
            "For input size  6000 average time for selection sort algorithm to sort a sorted list 0.12626268863677978\n",
            "--------------------------------------------------\n",
            "Sorting algorithms for input size k= 7000\n",
            "For input size  7000 average time for selection sort algorithm to sort a sorted list 0.16827056407928467\n",
            "--------------------------------------------------\n",
            "Sorting algorithms for input size k= 8000\n",
            "For input size  8000 average time for selection sort algorithm to sort a sorted list 0.21989729404449462\n",
            "--------------------------------------------------\n",
            "Sorting algorithms for input size k= 9000\n",
            "For input size  9000 average time for selection sort algorithm to sort a sorted list 0.29286742210388184\n",
            "--------------------------------------------------\n",
            "Sorting algorithms for input size k= 10000\n",
            "For input size  10000 average time for selection sort algorithm to sort a sorted list 0.3567464351654053\n",
            "--------------------------------------------------\n"
          ]
        }
      ]
    },
    {
      "cell_type": "code",
      "source": [
        "import random\n",
        "import time\n",
        "import matplotlib.pyplot as plt\n",
        "l1=[]\n",
        "k=1000\n",
        "\n",
        "\n",
        "ms1=[]\n",
        "inputlist=[]\n",
        "while k<=10000:\n",
        "    print(\"Sorting algorithms for input size k=\",k)\n",
        "    for i in range(0,k):\n",
        "        l1.append(random.randint(0,1000))\n",
        "    l1.sort(reverse=True)\n",
        "    begin=time.time()\n",
        "    for i in range(0,10):\n",
        "        new=l1\n",
        "        mergeSort(new)\n",
        "    end=time.time()\n",
        "    print('For input size ',k,'average time for selection sort algorithm to sort a sorted list',(end-begin)/10)\n",
        "    ms1.append((end-begin)/10)\n",
        "    begin=time.time()\n",
        "    \n",
        "    k+=1000\n",
        "    print('-'*50)\n",
        "#plt.plot(inputlist,ms1,label='Selection Sort')\n",
        "#plt.plot(inputlist,is1,label='Insertion Sort')\n"
      ],
      "metadata": {
        "colab": {
          "base_uri": "https://localhost:8080/"
        },
        "id": "M0Ywh3Ob85ys",
        "outputId": "2993ed72-4368-4908-a2a7-5dc746428912"
      },
      "execution_count": null,
      "outputs": [
        {
          "output_type": "stream",
          "name": "stdout",
          "text": [
            "Sorting algorithms for input size k= 1000\n",
            "For input size  1000 average time for selection sort algorithm to sort a sorted list 0.004242062568664551\n",
            "--------------------------------------------------\n",
            "Sorting algorithms for input size k= 2000\n",
            "For input size  2000 average time for selection sort algorithm to sort a sorted list 0.015194296836853027\n",
            "--------------------------------------------------\n",
            "Sorting algorithms for input size k= 3000\n",
            "For input size  3000 average time for selection sort algorithm to sort a sorted list 0.030902886390686037\n",
            "--------------------------------------------------\n",
            "Sorting algorithms for input size k= 4000\n",
            "For input size  4000 average time for selection sort algorithm to sort a sorted list 0.05772972106933594\n",
            "--------------------------------------------------\n",
            "Sorting algorithms for input size k= 5000\n",
            "For input size  5000 average time for selection sort algorithm to sort a sorted list 0.08320913314819336\n",
            "--------------------------------------------------\n",
            "Sorting algorithms for input size k= 6000\n",
            "For input size  6000 average time for selection sort algorithm to sort a sorted list 0.12429859638214111\n",
            "--------------------------------------------------\n",
            "Sorting algorithms for input size k= 7000\n",
            "For input size  7000 average time for selection sort algorithm to sort a sorted list 0.16807668209075927\n",
            "--------------------------------------------------\n",
            "Sorting algorithms for input size k= 8000\n",
            "For input size  8000 average time for selection sort algorithm to sort a sorted list 0.22705998420715331\n",
            "--------------------------------------------------\n",
            "Sorting algorithms for input size k= 9000\n",
            "For input size  9000 average time for selection sort algorithm to sort a sorted list 0.28608853816986085\n",
            "--------------------------------------------------\n",
            "Sorting algorithms for input size k= 10000\n",
            "For input size  10000 average time for selection sort algorithm to sort a sorted list 0.35643720626831055\n",
            "--------------------------------------------------\n"
          ]
        }
      ]
    },
    {
      "cell_type": "code",
      "source": [
        "import random\n",
        "import time\n",
        "import matplotlib.pyplot as plt\n",
        "l1=[]\n",
        "k=1000\n",
        "\n",
        "\n",
        "ms3=[]\n",
        "inputlist=[]\n",
        "while k<=10000:\n",
        "    print(\"Sorting algorithms for input size k=\",k)\n",
        "    for i in range(0,k):\n",
        "        l1.append(random.randint(0,1000))\n",
        "    \n",
        "    begin=time.time()\n",
        "    for i in range(0,10):\n",
        "        new=l1\n",
        "        mergeSort(new)\n",
        "    end=time.time()\n",
        "    print('For input size ',k,'average time for selection sort algorithm to sort a sorted list',(end-begin)/10)\n",
        "    ms1.append((end-begin)/10)\n",
        "    begin=time.time()\n",
        "    \n",
        "    k+=1000\n",
        "    print('-'*50)\n"
      ],
      "metadata": {
        "colab": {
          "base_uri": "https://localhost:8080/"
        },
        "id": "YMCC36p_9nvc",
        "outputId": "2c0a6449-2b69-4322-803f-e453b206a7cf"
      },
      "execution_count": null,
      "outputs": [
        {
          "output_type": "stream",
          "name": "stdout",
          "text": [
            "Sorting algorithms for input size k= 1000\n",
            "For input size  1000 average time for selection sort algorithm to sort a sorted list 0.005194830894470215\n",
            "--------------------------------------------------\n",
            "Sorting algorithms for input size k= 2000\n",
            "For input size  2000 average time for selection sort algorithm to sort a sorted list 0.014761781692504883\n",
            "--------------------------------------------------\n",
            "Sorting algorithms for input size k= 3000\n",
            "For input size  3000 average time for selection sort algorithm to sort a sorted list 0.031992006301879886\n",
            "--------------------------------------------------\n",
            "Sorting algorithms for input size k= 4000\n",
            "For input size  4000 average time for selection sort algorithm to sort a sorted list 0.05455760955810547\n",
            "--------------------------------------------------\n",
            "Sorting algorithms for input size k= 5000\n",
            "For input size  5000 average time for selection sort algorithm to sort a sorted list 0.08438315391540527\n",
            "--------------------------------------------------\n",
            "Sorting algorithms for input size k= 6000\n",
            "For input size  6000 average time for selection sort algorithm to sort a sorted list 0.1220848560333252\n",
            "--------------------------------------------------\n",
            "Sorting algorithms for input size k= 7000\n",
            "For input size  7000 average time for selection sort algorithm to sort a sorted list 0.16697261333465577\n",
            "--------------------------------------------------\n",
            "Sorting algorithms for input size k= 8000\n",
            "For input size  8000 average time for selection sort algorithm to sort a sorted list 0.22273383140563965\n",
            "--------------------------------------------------\n",
            "Sorting algorithms for input size k= 9000\n",
            "For input size  9000 average time for selection sort algorithm to sort a sorted list 0.28784091472625734\n",
            "--------------------------------------------------\n",
            "Sorting algorithms for input size k= 10000\n",
            "For input size  10000 average time for selection sort algorithm to sort a sorted list 0.3588146686553955\n",
            "--------------------------------------------------\n"
          ]
        }
      ]
    }
  ]
}